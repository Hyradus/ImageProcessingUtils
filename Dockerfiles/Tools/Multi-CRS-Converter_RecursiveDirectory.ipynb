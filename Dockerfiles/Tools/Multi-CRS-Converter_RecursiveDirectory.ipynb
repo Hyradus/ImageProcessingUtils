{
 "cells": [
  {
   "cell_type": "markdown",
   "metadata": {},
   "source": [
    "## **Multiple-format CRS Converter**\n",
    "\n",
    "This notebook convert any CRS, if present, of all files with specific extension in a user-selected folder into user-selected CRS.\n",
    "If source file is not availabe, it will be assigned the user-selected CRS.\n",
    "\n",
    "- **All file with extension different from [shp/SHP, tiff/TIFF, tif/tif, gpkg/GPKG] will be ignored**\n",
    "- **At the moment is not recursive**\n",
    "### **TO-DO**\n",
    "- [x] Add recursive search\n",
    "- [x] Add a function to move all not supported files in the destination path, recustructing the original strucutre of the directories\n",
    "\n",
    "For problems contact: g.nodjoumi@jacobs-university.de"
   ]
  },
  {
   "cell_type": "markdown",
   "metadata": {},
   "source": [
    "Imports"
   ]
  },
  {
   "cell_type": "code",
   "execution_count": 1,
   "metadata": {},
   "outputs": [],
   "source": [
    "import os\n",
    "from tqdm import tqdm\n",
    "from utils.GenUtils import get_paths, make_folder\n",
    "from utils.ReprojUtils import converter\n",
    "from pyproj import CRS"
   ]
  },
  {
   "cell_type": "code",
   "execution_count": 2,
   "metadata": {},
   "outputs": [],
   "source": [
    "\n",
    "def dir_conv(folder):\n",
    "    \n",
    "    dst_path = folder.replace(DATA_PATH, WORK_PATH)\n",
    "    #dst_crs = CRS.from_user_input()\n",
    "    #try:\n",
    "    #    make_folder(dst_path, 'processed')\n",
    "    #except:\n",
    "    #    import time\n",
    "    #    while True:\n",
    "    #        try:\n",
    "    ##            make_folder(dst_path, processed)\n",
    "     #       except:\n",
    "    #            # print('error', dst_path)\n",
    "    #            time.sleep(10)\n",
    "    #        else:\n",
    "    #            continue\n",
    "    \n",
    "    all_files= get_paths(folder, '*')\n",
    "    extensions = set()\n",
    "    for file in all_files:\n",
    "        pathname, exten = os.path.splitext(file)\n",
    "        if exten.split('.')[1] in ['tiff','tif','gpkg','shp']:\n",
    "            extensions.add(exten)\n",
    "        \n",
    "            \n",
    "    for exts in extensions:\n",
    "        exts=exts.split('.')[1]\n",
    "        make_folder(dst_path, exts)\n",
    "        \n",
    "    for file in all_files:\n",
    "        converter(file, dst_path, folder, OUT_CRS)\n",
    "    return(len(all_files))\n"
   ]
  },
  {
   "cell_type": "code",
   "execution_count": 3,
   "metadata": {},
   "outputs": [],
   "source": [
    "def main():        \n",
    "    # List all files\n",
    "    folder_list = [x[0] for x in os.walk(DATA_PATH)]        \n",
    "\n",
    "    with tqdm(total=len(folder_list),\n",
    "              desc = 'Generating files',\n",
    "              unit='File') as pbar:\n",
    "        \n",
    "        for i in range(len(folder_list)):\n",
    "                dir_conv(folder_list[i])\n",
    "                              \n",
    "                pbar.update(1)"
   ]
  },
  {
   "cell_type": "code",
   "execution_count": 4,
   "metadata": {},
   "outputs": [
    {
     "name": "stdin",
     "output_type": "stream",
     "text": [
      "Path of the output folder  /media/hyradus/NAS/OrbitalData/Mars/HiRISE/pit_mgc\n",
      "Path to data files folder: /media/hyradus/NAS/OrbitalData/Mars/HiRISE/pit_mgc\n",
      "Output crs string GEOGCRS[\"GCS_Mars_2000_Sphere\",     DATUM[\"Mars_2000_(Sphere)\",         ELLIPSOID[\"Mars_2000_Sphere_IAU_IAG\",3396190,0,             LENGTHUNIT[\"metre\",1]],         ID[\"ESRI\",106971]],     PRIMEM[\"Reference_Meridian\",0,         ANGLEUNIT[\"Degree\",0.0174532925199433]],     CS[ellipsoidal,2],         AXIS[\"longitude\",east,             ORDER[1],             ANGLEUNIT[\"Degree\",0.0174532925199433]],         AXIS[\"latitude\",north,             ORDER[2],             ANGLEUNIT[\"Degree\",0.0174532925199433]]]\n"
     ]
    },
    {
     "name": "stderr",
     "output_type": "stream",
     "text": [
      "Generating files:   0%|          | 0/1 [00:00<?, ?File/s]"
     ]
    },
    {
     "name": "stdout",
     "output_type": "stream",
     "text": [
      "shp  Folder not exist, creating.\n",
      "Created new  shp  Folder\n",
      "Non_GIS_file  Folder not exist, creating.\n",
      "Created new  Non_GIS_file  Folder\n"
     ]
    },
    {
     "name": "stderr",
     "output_type": "stream",
     "text": [
      "Generating files: 100%|██████████| 1/1 [00:01<00:00,  1.13s/File]\n"
     ]
    }
   ],
   "source": [
    "if __name__ == \"__main__\":\n",
    "\n",
    "    \n",
    "    ## PATHS\n",
    "    \n",
    "    WORK_PATH = input(str('Path of the output folder '))           \n",
    "    DATA_PATH = input(str('Path to data files folder:'))\n",
    "    #orig_dir = os.path.basename(DATA_PATH)\n",
    "    #DST_PATH = WORK_PATH+'/'+orig_dir    \n",
    "    #make_folder(WORK_PATH, orig_dir)  \n",
    "    #OUT_CRS = '+proj=utm +zone=33 +datum=WGS84 +units=m +no_defs'\n",
    "    OUT_CRS = CRS.from_user_input(input(str('Output crs string')))\n",
    "    \n",
    "    main()   "
   ]
  },
  {
   "cell_type": "code",
   "execution_count": null,
   "metadata": {},
   "outputs": [],
   "source": [
    "OUT_CRS = CRS.from_user_input(str(input('Output crs string')))"
   ]
  },
  {
   "cell_type": "code",
   "execution_count": null,
   "metadata": {},
   "outputs": [],
   "source": [
    "OUT_CRS"
   ]
  }
 ],
 "metadata": {
  "kernelspec": {
   "display_name": "Python 3 (ipykernel)",
   "language": "python",
   "name": "python3"
  },
  "language_info": {
   "codemirror_mode": {
    "name": "ipython",
    "version": 3
   },
   "file_extension": ".py",
   "mimetype": "text/x-python",
   "name": "python",
   "nbconvert_exporter": "python",
   "pygments_lexer": "ipython3",
   "version": "3.9.6"
  }
 },
 "nbformat": 4,
 "nbformat_minor": 4
}
